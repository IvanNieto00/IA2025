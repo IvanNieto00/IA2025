{
  "nbformat": 4,
  "nbformat_minor": 0,
  "metadata": {
    "colab": {
      "provenance": [],
      "authorship_tag": "ABX9TyOYJ9QNTevEdG5YVHksW3y8",
      "include_colab_link": true
    },
    "kernelspec": {
      "name": "python3",
      "display_name": "Python 3"
    },
    "language_info": {
      "name": "python"
    }
  },
  "cells": [
    {
      "cell_type": "markdown",
      "metadata": {
        "id": "view-in-github",
        "colab_type": "text"
      },
      "source": [
        "<a href=\"https://colab.research.google.com/github/M-Yerro/IA2025/blob/main/12-IA2025%20NN%20Pr%C3%A1ctica%20Clasificaci%C3%B3n.ipynb\" target=\"_parent\"><img src=\"https://colab.research.google.com/assets/colab-badge.svg\" alt=\"Open In Colab\"/></a>"
      ]
    },
    {
      "cell_type": "markdown",
      "source": [
        "Práctica:\n",
        "RRNN para clasificación\n",
        "\n",
        "Analizar el dataset, realizar preprocesamiento (si corresponde), y crear redes neuronales para la correcta clasificación de sitios de phishing.\n",
        "\n",
        "Dataset:\n",
        "https://archive.ics.uci.edu/dataset/327/phishing+websites"
      ],
      "metadata": {
        "id": "eo0qinfi8DTA"
      }
    },
    {
      "cell_type": "code",
      "execution_count": 1,
      "metadata": {
        "colab": {
          "base_uri": "https://localhost:8080/"
        },
        "id": "82hHJ_bd772Z",
        "outputId": "5ed91ec0-3fea-42e7-888d-9f00299bde9b"
      },
      "outputs": [
        {
          "output_type": "stream",
          "name": "stdout",
          "text": [
            "Collecting ucimlrepo\n",
            "  Downloading ucimlrepo-0.0.7-py3-none-any.whl.metadata (5.5 kB)\n",
            "Requirement already satisfied: pandas>=1.0.0 in /usr/local/lib/python3.12/dist-packages (from ucimlrepo) (2.2.2)\n",
            "Requirement already satisfied: certifi>=2020.12.5 in /usr/local/lib/python3.12/dist-packages (from ucimlrepo) (2025.8.3)\n",
            "Requirement already satisfied: numpy>=1.26.0 in /usr/local/lib/python3.12/dist-packages (from pandas>=1.0.0->ucimlrepo) (2.0.2)\n",
            "Requirement already satisfied: python-dateutil>=2.8.2 in /usr/local/lib/python3.12/dist-packages (from pandas>=1.0.0->ucimlrepo) (2.9.0.post0)\n",
            "Requirement already satisfied: pytz>=2020.1 in /usr/local/lib/python3.12/dist-packages (from pandas>=1.0.0->ucimlrepo) (2025.2)\n",
            "Requirement already satisfied: tzdata>=2022.7 in /usr/local/lib/python3.12/dist-packages (from pandas>=1.0.0->ucimlrepo) (2025.2)\n",
            "Requirement already satisfied: six>=1.5 in /usr/local/lib/python3.12/dist-packages (from python-dateutil>=2.8.2->pandas>=1.0.0->ucimlrepo) (1.17.0)\n",
            "Downloading ucimlrepo-0.0.7-py3-none-any.whl (8.0 kB)\n",
            "Installing collected packages: ucimlrepo\n",
            "Successfully installed ucimlrepo-0.0.7\n"
          ]
        }
      ],
      "source": [
        "pip install ucimlrepo"
      ]
    },
    {
      "cell_type": "code",
      "source": [
        "from ucimlrepo import fetch_ucirepo\n",
        "\n",
        "# fetch dataset\n",
        "phishing_websites = fetch_ucirepo(id=327)\n",
        "\n",
        "# data (as pandas dataframes)\n",
        "X = phishing_websites.data.features\n",
        "y = phishing_websites.data.targets\n",
        "\n",
        "# metadata\n",
        "print(phishing_websites.metadata)\n",
        "\n",
        "# variable information\n",
        "print(phishing_websites.variables)\n"
      ],
      "metadata": {
        "colab": {
          "base_uri": "https://localhost:8080/"
        },
        "id": "IyrZBfLa78-j",
        "outputId": "bfcaafa7-6a32-463b-b8b1-acf872347fa1"
      },
      "execution_count": 2,
      "outputs": [
        {
          "output_type": "stream",
          "name": "stdout",
          "text": [
            "{'uci_id': 327, 'name': 'Phishing Websites', 'repository_url': 'https://archive.ics.uci.edu/dataset/327/phishing+websites', 'data_url': 'https://archive.ics.uci.edu/static/public/327/data.csv', 'abstract': 'This dataset collected mainly from: PhishTank archive, MillerSmiles archive, Googleâ€™s searching operators.', 'area': 'Computer Science', 'tasks': ['Classification'], 'characteristics': ['Tabular'], 'num_instances': 11055, 'num_features': 30, 'feature_types': ['Integer'], 'demographics': [], 'target_col': ['result'], 'index_col': None, 'has_missing_values': 'no', 'missing_values_symbol': None, 'year_of_dataset_creation': 2012, 'last_updated': 'Tue Mar 05 2024', 'dataset_doi': '10.24432/C51W2X', 'creators': ['Rami Mohammad', 'Lee McCluskey'], 'intro_paper': {'ID': 396, 'type': 'NATIVE', 'title': 'An assessment of features related to phishing websites using an automated technique', 'authors': 'R. Mohammad, F. Thabtah, L. Mccluskey', 'venue': 'International Conference for Internet Technology and Secured Transactions', 'year': 2012, 'journal': None, 'DOI': None, 'URL': 'https://www.semanticscholar.org/paper/An-assessment-of-features-related-to-phishing-using-Mohammad-Thabtah/0c0ff58063f4e078714ea74f112bc709ba9fed06', 'sha': None, 'corpus': None, 'arxiv': None, 'mag': None, 'acl': None, 'pmid': None, 'pmcid': None}, 'additional_info': {'summary': 'One of the challenges faced by our research was the unavailability of reliable training datasets. In fact this challenge faces any researcher in the field. However, although plenty of articles about predicting phishing websites have been disseminated these days, no reliable training dataset has been published publically, may be because there is no agreement in literature on the definitive features that characterize phishing webpages, hence it is difficult to shape a dataset that covers all possible features. \\r\\nIn this dataset, we shed light on the important features that have proved to be sound and effective in predicting phishing websites. In addition, we propose some new features.', 'purpose': None, 'funded_by': None, 'instances_represent': None, 'recommended_data_splits': None, 'sensitive_data': None, 'preprocessing_description': None, 'variable_info': 'For Further information about the features see the features file in the data folder.', 'citation': None}}\n",
            "                          name     role     type demographic description  \\\n",
            "0            having_ip_address  Feature  Integer        None        None   \n",
            "1                   url_length  Feature  Integer        None        None   \n",
            "2           shortining_service  Feature  Integer        None        None   \n",
            "3             having_at_symbol  Feature  Integer        None        None   \n",
            "4     double_slash_redirecting  Feature  Integer        None        None   \n",
            "5                prefix_suffix  Feature  Integer        None        None   \n",
            "6            having_sub_domain  Feature  Integer        None        None   \n",
            "7               sslfinal_state  Feature  Integer        None        None   \n",
            "8   domain_registration_length  Feature  Integer        None        None   \n",
            "9                      favicon  Feature  Integer        None        None   \n",
            "10                        port  Feature  Integer        None        None   \n",
            "11                 https_token  Feature  Integer        None        None   \n",
            "12                 request_url  Feature  Integer        None        None   \n",
            "13               url_of_anchor  Feature  Integer        None        None   \n",
            "14               links_in_tags  Feature  Integer        None        None   \n",
            "15                         sfh  Feature  Integer        None        None   \n",
            "16         submitting_to_email  Feature  Integer        None        None   \n",
            "17                abnormal_url  Feature  Integer        None        None   \n",
            "18                    redirect  Feature  Integer        None        None   \n",
            "19                on_mouseover  Feature  Integer        None        None   \n",
            "20                  rightclick  Feature  Integer        None        None   \n",
            "21                 popupwindow  Feature  Integer        None        None   \n",
            "22                      iframe  Feature  Integer        None        None   \n",
            "23               age_of_domain  Feature  Integer        None        None   \n",
            "24                   dnsrecord  Feature  Integer        None        None   \n",
            "25                 web_traffic  Feature  Integer        None        None   \n",
            "26                   page_rank  Feature  Integer        None        None   \n",
            "27                google_index  Feature  Integer        None        None   \n",
            "28      links_pointing_to_page  Feature  Integer        None        None   \n",
            "29          statistical_report  Feature  Integer        None        None   \n",
            "30                      result   Target  Integer        None        None   \n",
            "\n",
            "   units missing_values  \n",
            "0   None             no  \n",
            "1   None             no  \n",
            "2   None             no  \n",
            "3   None             no  \n",
            "4   None             no  \n",
            "5   None             no  \n",
            "6   None             no  \n",
            "7   None             no  \n",
            "8   None             no  \n",
            "9   None             no  \n",
            "10  None             no  \n",
            "11  None             no  \n",
            "12  None             no  \n",
            "13  None             no  \n",
            "14  None             no  \n",
            "15  None             no  \n",
            "16  None             no  \n",
            "17  None             no  \n",
            "18  None             no  \n",
            "19  None             no  \n",
            "20  None             no  \n",
            "21  None             no  \n",
            "22  None             no  \n",
            "23  None             no  \n",
            "24  None             no  \n",
            "25  None             no  \n",
            "26  None             no  \n",
            "27  None             no  \n",
            "28  None             no  \n",
            "29  None             no  \n",
            "30  None             no  \n"
          ]
        }
      ]
    }
  ]
}